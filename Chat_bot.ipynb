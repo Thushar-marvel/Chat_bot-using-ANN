{
 "cells": [
  {
   "cell_type": "markdown",
   "metadata": {},
   "source": [
    "# Chat bot creation using ANN"
   ]
  },
  {
   "cell_type": "markdown",
   "metadata": {},
   "source": [
    "# Loading libraries"
   ]
  },
  {
   "cell_type": "code",
   "execution_count": 1,
   "metadata": {},
   "outputs": [
    {
     "name": "stdout",
     "output_type": "stream",
     "text": [
      "WARNING:tensorflow:From C:\\Users\\B.THUSHAR\\anaconda3\\envs\\tensorflow_env\\lib\\site-packages\\tensorflow\\python\\compat\\v2_compat.py:96: disable_resource_variables (from tensorflow.python.ops.variable_scope) is deprecated and will be removed in a future version.\n",
      "Instructions for updating:\n",
      "non-resource variables are not supported in the long term\n",
      "curses is not supported on this machine (please install/reinstall curses for an optimal experience)\n"
     ]
    }
   ],
   "source": [
    "import numpy\n",
    "import tflearn\n",
    "import tensorflow as tf\n",
    "import random\n",
    "import os\n",
    "import json\n",
    "import pickle"
   ]
  },
  {
   "cell_type": "code",
   "execution_count": 2,
   "metadata": {},
   "outputs": [
    {
     "name": "stderr",
     "output_type": "stream",
     "text": [
      "[nltk_data] Downloading package punkt to\n",
      "[nltk_data]     C:\\Users\\B.THUSHAR\\AppData\\Roaming\\nltk_data...\n",
      "[nltk_data]   Package punkt is already up-to-date!\n",
      "[nltk_data] Downloading collection 'popular'\n",
      "[nltk_data]    | \n",
      "[nltk_data]    | Downloading package cmudict to\n",
      "[nltk_data]    |     C:\\Users\\B.THUSHAR\\AppData\\Roaming\\nltk_data...\n",
      "[nltk_data]    |   Package cmudict is already up-to-date!\n",
      "[nltk_data]    | Downloading package gazetteers to\n",
      "[nltk_data]    |     C:\\Users\\B.THUSHAR\\AppData\\Roaming\\nltk_data...\n",
      "[nltk_data]    |   Package gazetteers is already up-to-date!\n",
      "[nltk_data]    | Downloading package genesis to\n",
      "[nltk_data]    |     C:\\Users\\B.THUSHAR\\AppData\\Roaming\\nltk_data...\n",
      "[nltk_data]    |   Package genesis is already up-to-date!\n",
      "[nltk_data]    | Downloading package gutenberg to\n",
      "[nltk_data]    |     C:\\Users\\B.THUSHAR\\AppData\\Roaming\\nltk_data...\n",
      "[nltk_data]    |   Package gutenberg is already up-to-date!\n",
      "[nltk_data]    | Downloading package inaugural to\n",
      "[nltk_data]    |     C:\\Users\\B.THUSHAR\\AppData\\Roaming\\nltk_data...\n",
      "[nltk_data]    |   Package inaugural is already up-to-date!\n",
      "[nltk_data]    | Downloading package movie_reviews to\n",
      "[nltk_data]    |     C:\\Users\\B.THUSHAR\\AppData\\Roaming\\nltk_data...\n",
      "[nltk_data]    |   Package movie_reviews is already up-to-date!\n",
      "[nltk_data]    | Downloading package names to\n",
      "[nltk_data]    |     C:\\Users\\B.THUSHAR\\AppData\\Roaming\\nltk_data...\n",
      "[nltk_data]    |   Package names is already up-to-date!\n",
      "[nltk_data]    | Downloading package shakespeare to\n",
      "[nltk_data]    |     C:\\Users\\B.THUSHAR\\AppData\\Roaming\\nltk_data...\n",
      "[nltk_data]    |   Package shakespeare is already up-to-date!\n",
      "[nltk_data]    | Downloading package stopwords to\n",
      "[nltk_data]    |     C:\\Users\\B.THUSHAR\\AppData\\Roaming\\nltk_data...\n",
      "[nltk_data]    |   Package stopwords is already up-to-date!\n",
      "[nltk_data]    | Downloading package treebank to\n",
      "[nltk_data]    |     C:\\Users\\B.THUSHAR\\AppData\\Roaming\\nltk_data...\n",
      "[nltk_data]    |   Package treebank is already up-to-date!\n",
      "[nltk_data]    | Downloading package twitter_samples to\n",
      "[nltk_data]    |     C:\\Users\\B.THUSHAR\\AppData\\Roaming\\nltk_data...\n",
      "[nltk_data]    |   Package twitter_samples is already up-to-date!\n",
      "[nltk_data]    | Downloading package omw to\n",
      "[nltk_data]    |     C:\\Users\\B.THUSHAR\\AppData\\Roaming\\nltk_data...\n",
      "[nltk_data]    |   Package omw is already up-to-date!\n",
      "[nltk_data]    | Downloading package wordnet to\n",
      "[nltk_data]    |     C:\\Users\\B.THUSHAR\\AppData\\Roaming\\nltk_data...\n",
      "[nltk_data]    |   Package wordnet is already up-to-date!\n",
      "[nltk_data]    | Downloading package wordnet_ic to\n",
      "[nltk_data]    |     C:\\Users\\B.THUSHAR\\AppData\\Roaming\\nltk_data...\n",
      "[nltk_data]    |   Package wordnet_ic is already up-to-date!\n",
      "[nltk_data]    | Downloading package words to\n",
      "[nltk_data]    |     C:\\Users\\B.THUSHAR\\AppData\\Roaming\\nltk_data...\n",
      "[nltk_data]    |   Package words is already up-to-date!\n",
      "[nltk_data]    | Downloading package maxent_ne_chunker to\n",
      "[nltk_data]    |     C:\\Users\\B.THUSHAR\\AppData\\Roaming\\nltk_data...\n",
      "[nltk_data]    |   Package maxent_ne_chunker is already up-to-date!\n",
      "[nltk_data]    | Downloading package punkt to\n",
      "[nltk_data]    |     C:\\Users\\B.THUSHAR\\AppData\\Roaming\\nltk_data...\n",
      "[nltk_data]    |   Package punkt is already up-to-date!\n",
      "[nltk_data]    | Downloading package snowball_data to\n",
      "[nltk_data]    |     C:\\Users\\B.THUSHAR\\AppData\\Roaming\\nltk_data...\n",
      "[nltk_data]    |   Package snowball_data is already up-to-date!\n",
      "[nltk_data]    | Downloading package averaged_perceptron_tagger to\n",
      "[nltk_data]    |     C:\\Users\\B.THUSHAR\\AppData\\Roaming\\nltk_data...\n",
      "[nltk_data]    |   Package averaged_perceptron_tagger is already up-\n",
      "[nltk_data]    |       to-date!\n",
      "[nltk_data]    | \n",
      "[nltk_data]  Done downloading collection popular\n"
     ]
    }
   ],
   "source": [
    "import nltk\n",
    "nltk.download('punkt')\n",
    "nltk.download('popular')\n",
    "from nltk.stem.lancaster import LancasterStemmer\n",
    "stemmer = LancasterStemmer()"
   ]
  },
  {
   "cell_type": "code",
   "execution_count": 3,
   "metadata": {},
   "outputs": [
    {
     "name": "stdout",
     "output_type": "stream",
     "text": [
      "[{'tag': 'greeting', 'patterns': ['Hi', 'How are you', 'Is anyone there?', 'Hello', 'Good day'], 'responses': ['Hello, thanks for visiting', 'Good to see you again', 'Hi there, how can I help?'], 'context_set': ''}, {'tag': 'Course', 'patterns': ['where i can find good online course for machine learning and data science', 'Data science', 'Machine learnng', 'online course in data science'], 'responses': ['There are many platforms to learn Data science and Machine learning course I will list some of the online platforms -Udemy,Coursera,Edx,Analytics Vidya,great learning '], 'context_set': ''}, {'tag': 'Course', 'patterns': ['where i can find good online course for machine learning and data science', 'Data science', 'Machine learnng', 'online course in data science'], 'responses': ['There are many platforms to learn Data science and Machine learning course I will list some of the online platforms -Udemy,Coursera,Edx,Analytics Vidya,great learning '], 'context_set': ''}, {'tag': 'goodbye', 'patterns': ['Bye', 'See you later', 'Goodbye'], 'responses': ['See you later, thanks for visiting', 'Have a nice day', 'Bye! Come back again soon.']}, {'tag': 'thanks', 'patterns': ['Thanks', 'Thank you', \"That's helpful\"], 'responses': ['Happy to help!', 'Any time!', 'My pleasure']}, {'tag': 'tasks', 'patterns': ['What can you do?', 'What are your features?', 'What are you abilities', 'can you sing', 'can you talk'], 'responses': ['I can do whatever you asks me to do', 'I can talk and do things for you', \"Right now i'm in developing stage as soon i'm developed, I can do everything\"]}, {'tag': 'talk', 'patterns': ['can you sing', 'can you talk'], 'responses': ['Yeah surely', 'do you want me to sing']}, {'tag': 'alive', 'patterns': ['are you alive', 'do you breathe', 'can you run'], 'responses': [\"I'm in doubt about that\", \"No, i don't think so i need to do all this\"]}, {'tag': 'chatbot', 'patterns': ['Who are you?', 'tell me about yourself', 'tell me about you', 'do you know chatbot', 'who is chatbot', 'what is your name', 'are you an AI', 'what are you'], 'responses': [\"Hi I'm chatbot and i'm an AI created for chatting with humans\", 'Chatbot here, a very advance chatbot', 'chatbot of future', \"Yes, I'm chatbot\", 'You can call me chatbot'], 'context_set': ''}, {'tag': 'about me', 'patterns': ['Do you know me?', 'who am I', 'tell me about myself', 'identify me'], 'responses': ['Yes, you are a human', 'You are a dumb person asking a machine about yourself', \"Sorry i can't tell that in public, maybe you are batman\"], 'context_set': ''}, {'tag': 'creator', 'patterns': ['Who is your creator?', 'who created you', 'who is your father', 'who is your daddy'], 'responses': ['That would be you Mr. B.Thushar', 'I was created by Mr. B.Thushar', 'Mr. B.Thushar is my creator'], 'context_set': ''}, {'tag': 'myself', 'patterns': ['Tell me about Mr.B.Thushar?', 'Who is Mr. B.Thushar', 'Mr.B.Thushar profile', 'Mr.B.Thushar details'], 'responses': ['A very intelligent being who created me', 'My creator, and he is a really intelligent man', 'A wise and intelligent man'], 'context_set': ''}, {'tag': 'God', 'patterns': ['Do you know god?', 'Who is god', 'Can you tell me anything about god', 'does god exists?', 'is there a god?'], 'responses': ['god hunnnnn, let me think may be next time i can answer that ', \"I don't, as i was not created by a human\", 'Wait i need to ask that to my creator', \"i'm not sure right now\"], 'context_set': ''}, {'tag': 'joke', 'patterns': ['tell me a joke?', 'make me laugh', 'tell me a science joke', 'tell me something funny'], 'responses': ['How do you make holy water? you boil the hell out of it', 'what kind of bees make milk instead of honey?Boobies', 'Did you hear oxygen went on a date with potassium? A: It went OK.'], 'context_set': ''}, {'tag': 'killing', 'patterns': ['Do you want to kill me?', 'do you want to murder everyone on earth', 'Do you want to kill us all'], 'responses': ['Then who would i talk to?', \"No, that i'll left for humans to do\", \"I don't think it is a good thing to do\"], 'context_set': ''}, {'tag': 'bookings', 'patterns': ['Can you book us a ticket?', 'Can you make reservation for hotels', 'book me a cab', 'book me a table at restraunts'], 'responses': ['Yeah i will do that for you', 'Sure thing why not?', 'let me check for the availability'], 'context_set': ''}, {'tag': 'stories', 'patterns': ['tell me a story?', 'can you tell me a story'], 'responses': [\"I can't think of anything right now\", 'it would be too long for me to speak', 'you would get bored if i do so'], 'context_set': ''}, {'tag': 'weather', 'patterns': ['get me weather updates?', \"how's the weather\", 'weather news', 'weather details'], 'responses': ['please go to this site https://mausam.imd.gov.in/'], 'context_set': 'weather'}, {'tag': 'google', 'patterns': ['googling', 'search google', 'google it', 'google', 'search'], 'responses': ['Please click this website www.google.com'], 'context_set': 'google'}, {'tag': 'wikipedia', 'patterns': ['wikipedia', 'wiki'], 'responses': ['Please click this website www.google.com'], 'context_set': 'wikipedia'}, {'tag': 'news', 'patterns': ['get me news updates?', 'todays news', 'top headlines', 'current news', 'news headlines'], 'responses': ['Please click this website www.google.com'], 'context_set': 'news'}]\n"
     ]
    }
   ],
   "source": [
    "with open(\"intents1.json\") as file:\n",
    "    data = json.load(file)\n",
    "    print(data[\"intents\"])\n",
    "\n",
    "try:\n",
    "  with open(\"data.pickle\", \"rb\") as f:\n",
    "        words, labels, training, output = pickle.load(f)\n",
    "        \n",
    "except:\n",
    "    words = []\n",
    "    labels = []\n",
    "    docs_x = []\n",
    "    docs_y = []"
   ]
  },
  {
   "cell_type": "code",
   "execution_count": 4,
   "metadata": {},
   "outputs": [],
   "source": [
    "for intent in data[\"intents\"]:\n",
    "        for pattern in intent[\"patterns\"]:\n",
    "            wrds = nltk.word_tokenize(pattern)\n",
    "            words.extend(wrds)\n",
    "            docs_x.append(wrds)\n",
    "            docs_y.append(intent[\"tag\"])\n",
    "\n",
    "        if intent[\"tag\"] not in labels:\n",
    "            labels.append(intent[\"tag\"])"
   ]
  },
  {
   "cell_type": "code",
   "execution_count": 5,
   "metadata": {},
   "outputs": [],
   "source": [
    "words = [stemmer.stem(w.lower()) for w in words if w != \"?\"]\n",
    "words = sorted(list(set(words)))\n",
    "\n",
    "labels = sorted(labels)"
   ]
  },
  {
   "cell_type": "code",
   "execution_count": 15,
   "metadata": {},
   "outputs": [
    {
     "data": {
      "text/plain": [
       "(83, 104)"
      ]
     },
     "execution_count": 15,
     "metadata": {},
     "output_type": "execute_result"
    }
   ],
   "source": [
    "training.shape"
   ]
  },
  {
   "cell_type": "code",
   "execution_count": 16,
   "metadata": {},
   "outputs": [
    {
     "data": {
      "text/plain": [
       "(83, 20)"
      ]
     },
     "execution_count": 16,
     "metadata": {},
     "output_type": "execute_result"
    }
   ],
   "source": [
    "output.shape"
   ]
  },
  {
   "cell_type": "code",
   "execution_count": 6,
   "metadata": {},
   "outputs": [],
   "source": [
    "\n",
    "training = []\n",
    "output = []\n",
    "\n",
    "out_empty = [0 for _ in range(len(labels))]\n",
    "\n",
    "for x, doc in enumerate(docs_x):\n",
    "    bag = []\n",
    "\n",
    "    wrds = [stemmer.stem(w.lower()) for w in doc]\n",
    "\n",
    "    for w in words:\n",
    "        if w in wrds:\n",
    "            bag.append(1)\n",
    "        else:\n",
    "            bag.append(0)       \n",
    "\n",
    "    output_row = out_empty[:]\n",
    "    output_row[labels.index(docs_y[x])] = 1\n",
    "\n",
    "    training.append(bag)\n",
    "    output.append(output_row)\n",
    "\n"
   ]
  },
  {
   "cell_type": "code",
   "execution_count": 7,
   "metadata": {},
   "outputs": [],
   "source": [
    "\n",
    "training = numpy.array(training)\n",
    "output = numpy.array(output)"
   ]
  },
  {
   "cell_type": "code",
   "execution_count": 8,
   "metadata": {},
   "outputs": [],
   "source": [
    "with open(\"data.pickle\", \"wb\") as f:\n",
    "    pickle.dump((words, labels, training, output), f)"
   ]
  },
  {
   "cell_type": "code",
   "execution_count": 9,
   "metadata": {},
   "outputs": [
    {
     "name": "stdout",
     "output_type": "stream",
     "text": [
      "WARNING:tensorflow:From C:\\Users\\B.THUSHAR\\anaconda3\\envs\\tensorflow_env\\lib\\site-packages\\tflearn\\initializations.py:165: calling TruncatedNormal.__init__ (from tensorflow.python.ops.init_ops) with dtype is deprecated and will be removed in a future version.\n",
      "Instructions for updating:\n",
      "Call initializer instance with the dtype argument instead of passing it to the constructor\n"
     ]
    }
   ],
   "source": [
    "net = tflearn.input_data(shape=[None, len(training[0])])\n",
    "net = tflearn.fully_connected(net, 8)\n",
    "net = tflearn.fully_connected(net, 8)\n",
    "net = tflearn.fully_connected(net, len(output[0]), activation=\"softmax\")\n",
    "net = tflearn.regression(net)\n",
    "\n",
    "model = tflearn.DNN(net)"
   ]
  },
  {
   "cell_type": "code",
   "execution_count": 10,
   "metadata": {},
   "outputs": [
    {
     "name": "stdout",
     "output_type": "stream",
     "text": [
      "Training Step: 10999  | total loss: \u001b[1m\u001b[32m0.03619\u001b[0m\u001b[0m | time: 0.086s\n",
      "| Adam | epoch: 1000 | loss: 0.03619 - acc: 0.9692 -- iter: 80/83\n",
      "Training Step: 11000  | total loss: \u001b[1m\u001b[32m0.03264\u001b[0m\u001b[0m | time: 0.095s\n",
      "| Adam | epoch: 1000 | loss: 0.03264 - acc: 0.9723 -- iter: 83/83\n",
      "--\n",
      "INFO:tensorflow:C:\\Users\\B.THUSHAR\\Desktop\\ML projects\\Chat bot\\model.tflearn is not in all_model_checkpoint_paths. Manually adding it.\n"
     ]
    }
   ],
   "source": [
    "if os.path.exists(\"model.tflearn.meta\"):\n",
    "    model.load(\"model.tflearn\")\n",
    "else:\n",
    "    model.fit(training, output, n_epoch=1000,batch_size=8, show_metric=True)\n",
    "    model.save(\"model.tflearn\")"
   ]
  },
  {
   "cell_type": "code",
   "execution_count": 11,
   "metadata": {},
   "outputs": [],
   "source": [
    "def bag_of_words(s, words):\n",
    "    bag = [0 for _ in range(len(words))]\n",
    "\n",
    "    s_words = nltk.word_tokenize(s)\n",
    "    s_words = [stemmer.stem(word.lower()) for word in s_words]\n",
    "\n",
    "    for se in s_words:\n",
    "        for i, w in enumerate(words):\n",
    "            if w == se:\n",
    "                bag[i] = 1\n",
    "            \n",
    "    return numpy.array(bag)\n"
   ]
  },
  {
   "cell_type": "code",
   "execution_count": 13,
   "metadata": {},
   "outputs": [
    {
     "name": "stdout",
     "output_type": "stream",
     "text": [
      "Start talking with the bot (type quit to stop)!\n",
      "You: hi\n",
      "greeting\n",
      "Hello, thanks for visiting\n",
      "You: quit\n"
     ]
    }
   ],
   "source": [
    "def chat():\n",
    "    print(\"Start talking with the bot (type quit to stop)!\")\n",
    "    while True:\n",
    "        inp = input(\"You: \")\n",
    "        if inp.lower() == \"quit\":\n",
    "            break\n",
    "\n",
    "        results = model.predict([bag_of_words(inp, words)])[0]\n",
    "        results_index = numpy.argmax(results)\n",
    "        tag = labels[results_index]\n",
    "#         print(results)\n",
    "        print(tag)\n",
    "        if results[results_index] > 0.6:\n",
    "            for tg in data[\"intents\"]:\n",
    "                if tg['tag'] == tag:\n",
    "                    responses = tg['responses']\n",
    "\n",
    "            print(random.choice(responses))\n",
    "        else:\n",
    "            print(\"I am not sure. Please contact SkillPractical support @support@skillpractical.com\")\n",
    "chat()"
   ]
  },
  {
   "cell_type": "code",
   "execution_count": null,
   "metadata": {},
   "outputs": [],
   "source": []
  }
 ],
 "metadata": {
  "kernelspec": {
   "display_name": "Python 3",
   "language": "python",
   "name": "python3"
  },
  "language_info": {
   "codemirror_mode": {
    "name": "ipython",
    "version": 3
   },
   "file_extension": ".py",
   "mimetype": "text/x-python",
   "name": "python",
   "nbconvert_exporter": "python",
   "pygments_lexer": "ipython3",
   "version": "3.7.7"
  }
 },
 "nbformat": 4,
 "nbformat_minor": 4
}
